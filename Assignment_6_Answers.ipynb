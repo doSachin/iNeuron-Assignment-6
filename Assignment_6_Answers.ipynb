{
 "cells": [
  {
   "cell_type": "markdown",
   "id": "b264b4c2",
   "metadata": {},
   "source": [
    "<h1 align=\"center\" ><span style=\"color: blue; font-size: 48px; \"><b> Assignment No. 6 (Python Basic - 1)</b></span></h1>\n",
    "\n",
    "<h1 style=\"font-family: Trebuchet MS; font-size: 14px; color: #34495E; text-align: right; \">Submitted By: Sachin Dodake</h1>\n",
    "\n",
    "<hr style=\"height:3px;border-width:1;color:blue;background-color:blue\">"
   ]
  },
  {
   "cell_type": "markdown",
   "id": "1e26ab52",
   "metadata": {},
   "source": [
    "###  Q.1. What are keywords in python? Using the keyword library, print all the python keywords."
   ]
  },
  {
   "cell_type": "markdown",
   "id": "d0881ffc",
   "metadata": {
    "ExecuteTime": {
     "end_time": "2023-05-30T09:10:04.320250Z",
     "start_time": "2023-05-30T09:10:04.304868Z"
    }
   },
   "source": [
    "**`Ans-1`**\n",
    "\n",
    "> **`Keywords:`**\n",
    ">- Python Keywords are special reserved words that convey a special meaning to the compiler/interpreter. \n",
    ">- Each keyword has a special meaning and a specific operation. \n",
    ">- Keywords in Python are reserved words that can not be used as a variable name, function name, or any other identifier.\n",
    ">- The keywords only contains small letters except True, False, None keywords.\n",
    "\n",
    ">- The various keyword can be found by using command **`help('keywords')`** as shown below\n"
   ]
  },
  {
   "cell_type": "code",
   "execution_count": 2,
   "id": "7cf17749",
   "metadata": {
    "ExecuteTime": {
     "end_time": "2023-05-30T09:10:21.241734Z",
     "start_time": "2023-05-30T09:10:21.224525Z"
    }
   },
   "outputs": [
    {
     "name": "stdout",
     "output_type": "stream",
     "text": [
      "\n",
      "Here is a list of the Python keywords.  Enter any keyword to get more help.\n",
      "\n",
      "False               class               from                or\n",
      "None                continue            global              pass\n",
      "True                def                 if                  raise\n",
      "and                 del                 import              return\n",
      "as                  elif                in                  try\n",
      "assert              else                is                  while\n",
      "async               except              lambda              with\n",
      "await               finally             nonlocal            yield\n",
      "break               for                 not                 \n",
      "\n"
     ]
    }
   ],
   "source": [
    "help('keywords')"
   ]
  },
  {
   "cell_type": "markdown",
   "id": "930d14a8",
   "metadata": {},
   "source": [
    "###  Q.2. What are the rules to create variables in python?"
   ]
  },
  {
   "cell_type": "markdown",
   "id": "b0bd582c",
   "metadata": {
    "ExecuteTime": {
     "end_time": "2023-05-30T09:15:02.952870Z",
     "start_time": "2023-05-30T09:15:02.925835Z"
    }
   },
   "source": [
    "**`Ans-2:`**\n",
    "\n",
    "> **`Variables:`**\n",
    ">- Variable is a name that is used to refer to memory location i.e. variables are nothing but reserved memory locations to store values. This means that when you create a variable you reserve some space in memory.\n",
    ">- Python variable is also known as an identifier and used to hold value.\n",
    ">- In Python, we don't need to specify the type of variable because Python is a infer language and smart enough to get variable type\n",
    ">- Based on the data type of a variable, the interpreter allocates memory and decides what can be stored in the reserved memory. Therefore, by assigning different data types to variables, you can store integers, decimals or characters in these variables.\n",
    ">-  It is recommended to use lowercase letters for the variable name. for eg. 'Sachin' and 'sachin' both are two different variables\n",
    "\n",
    "> **`Examples:`**\n",
    "\n",
    "                        i)  sachin = 10  (Integer type)\n",
    "                        ii) a = 20.5  (float type)\n",
    "                        iii) info  = \"Data Science\"   (string type)\n",
    "                        iv) value = 10+20j   (Complex type)\n",
    "                         v) digits = True    (boolean type)\n",
    "                        vi)  x, y, z = 10, \"Hello\", \"True\" (assigning multiple values to multiple variables)\n",
    "\n",
    "> **`Rules to define Variable:`**\n",
    ">- The first character of the variable must be an alphabet or underscore ( _ ).\n",
    ">- All the characters except the first character may be an alphabet of lower-case(a-z), upper-case (A-Z), underscore, or digit (0-9).\n",
    ">- Identifier name must not contain any white-space, or special character (!, @, #, %, ^, &, *).\n",
    ">- Identifier name must not be similar to any keyword defined in the language.\n",
    ">- Identifier names are case sensitive; for example, my name, and MyName is not the same."
   ]
  },
  {
   "cell_type": "markdown",
   "id": "f1f986a7",
   "metadata": {},
   "source": [
    "###  Q.3. What are the standards and conventions followed for the nomenclature of variables in python to improve code readability and maintainability?"
   ]
  },
  {
   "cell_type": "markdown",
   "id": "7b031931",
   "metadata": {},
   "source": [
    "**`Ans-3`**\n",
    "\n",
    "> **`Naming rules:`**\n",
    ">- A name only consists of characters from three groups: `digits (0-9), letters (a-z and A-Z), and underscores (_)`.\n",
    ">- A name cannot start with a `digit`.\n",
    ">- A name cannot coincide with one of Python’s `reserved words`. Reserved words or keywords are words that have special meaning to Python.\n",
    "\n",
    "> **`Naming convention:`**\n",
    ">- Use all `lowercase`. Ex: `name` instead of `Name`. One exception: class names should start with a capital letter and follow by lowercase letters.\n",
    ">- Use `snake_case` convention (i.e., separate words by underscores, look like a snake). Ex: `gross_profit` instead of `grossProfit` or `GrossProfit`.\n",
    ">- Should be `meaningful` and `easy` to remember. Ex: `interest_rate` instead of `r` or `ir`.\n",
    ">- Should have a `reasonable length`. Ex: `sales_apr` instead of `sales_data_for_april`.\n",
    ">- `Avoid` names of popular functions and modules. Ex: avoid `print, math, or collections`."
   ]
  },
  {
   "cell_type": "markdown",
   "id": "46262c98",
   "metadata": {},
   "source": [
    "###  Q.4. What will happen if a `keyword` is used as a `variable name`?"
   ]
  },
  {
   "cell_type": "markdown",
   "id": "200599c6",
   "metadata": {},
   "source": [
    "**`Ans-4`**\n",
    "\n",
    ">- `Keywords` are predefined, reserved words used in Python programming that have special meanings to the `compiler`.\n",
    ">- We cannot use a `keyword` as a `variable name, function name, or any other identifier`. They are used to define the syntax and structure of the Python language.\n",
    ">- `Keywords` define the `language’s syntax rules and structure`, and they cannot be used as `variable names`.\n",
    "\n",
    ">- We cannot use keywords as variable names as they are reserved names that are built-in to Python. \n",
    ">- The below code is wrong because we have used `continue` as a `variable name`. Therefore, it will show error as shown below,"
   ]
  },
  {
   "cell_type": "code",
   "execution_count": 10,
   "id": "4c06c058",
   "metadata": {
    "ExecuteTime": {
     "end_time": "2023-05-30T10:17:23.154385Z",
     "start_time": "2023-05-30T10:17:23.141667Z"
    }
   },
   "outputs": [
    {
     "ename": "SyntaxError",
     "evalue": "invalid syntax (1412880025.py, line 3)",
     "output_type": "error",
     "traceback": [
      "\u001b[1;36m  Input \u001b[1;32mIn [10]\u001b[1;36m\u001b[0m\n\u001b[1;33m    continue = 'Python'       # it will throw ERROR\u001b[0m\n\u001b[1;37m             ^\u001b[0m\n\u001b[1;31mSyntaxError\u001b[0m\u001b[1;31m:\u001b[0m invalid syntax\n"
     ]
    }
   ],
   "source": [
    "# explaination on que-4\n",
    "\n",
    "continue = 'Python'       # it will throw ERROR\n",
    " \n",
    "if = 1234                      # it will throw ERROR\n",
    "\n",
    "import = True                 # it will throw ERROR"
   ]
  },
  {
   "cell_type": "markdown",
   "id": "87e6ea5b",
   "metadata": {},
   "source": [
    "###  Q.5. For what purpose `def-keyword` is used?"
   ]
  },
  {
   "cell_type": "markdown",
   "id": "7c484209",
   "metadata": {},
   "source": [
    "**`Ans-5`**\n",
    "\n",
    ">- The **`del`** keyword is used to delete objects. \n",
    ">- In Python everything is an object, so the `del` keyword can also be used to delete variables, lists, or parts of a list etc.\n",
    ">- **Syntax:**\n",
    "                del obj_name              # used to delete `obj_name`\n",
    " \n",
    " > **Example:**\n",
    " "
   ]
  },
  {
   "cell_type": "code",
   "execution_count": 1,
   "id": "1e7d0c4a",
   "metadata": {
    "ExecuteTime": {
     "end_time": "2023-06-11T17:12:39.683458Z",
     "start_time": "2023-06-11T17:12:36.335092Z"
    }
   },
   "outputs": [
    {
     "name": "stdout",
     "output_type": "stream",
     "text": [
      "The value of 'b' before del is: 11\n",
      "The value of 'b' before del is: 22\n",
      "\n",
      "The value of 'b' after del is: 11\n"
     ]
    },
    {
     "ename": "NameError",
     "evalue": "name 'b' is not defined",
     "output_type": "error",
     "traceback": [
      "\u001b[1;31m---------------------------------------------------------------------------\u001b[0m",
      "\u001b[1;31mNameError\u001b[0m                                 Traceback (most recent call last)",
      "Input \u001b[1;32mIn [1]\u001b[0m, in \u001b[0;36m<cell line: 16>\u001b[1;34m()\u001b[0m\n\u001b[0;32m     14\u001b[0m \u001b[38;5;66;03m# Let's try to print values of a & b\u001b[39;00m\n\u001b[0;32m     15\u001b[0m \u001b[38;5;28mprint\u001b[39m(\u001b[38;5;124mf\u001b[39m\u001b[38;5;124m\"\u001b[39m\u001b[38;5;130;01m\\n\u001b[39;00m\u001b[38;5;124mThe value of \u001b[39m\u001b[38;5;124m'\u001b[39m\u001b[38;5;124mb\u001b[39m\u001b[38;5;124m'\u001b[39m\u001b[38;5;124m after del is: \u001b[39m\u001b[38;5;132;01m{\u001b[39;00ma\u001b[38;5;132;01m}\u001b[39;00m\u001b[38;5;124m\"\u001b[39m)     \u001b[38;5;66;03m# this will print value of a\u001b[39;00m\n\u001b[1;32m---> 16\u001b[0m \u001b[38;5;28mprint\u001b[39m(\u001b[38;5;124mf\u001b[39m\u001b[38;5;124m\"\u001b[39m\u001b[38;5;124mThe value of \u001b[39m\u001b[38;5;124m'\u001b[39m\u001b[38;5;124mb\u001b[39m\u001b[38;5;124m'\u001b[39m\u001b[38;5;124m after del is: \u001b[39m\u001b[38;5;132;01m{\u001b[39;00mb\u001b[38;5;132;01m}\u001b[39;00m\u001b[38;5;124m\"\u001b[39m)\n",
      "\u001b[1;31mNameError\u001b[0m: name 'b' is not defined"
     ]
    }
   ],
   "source": [
    "# explaination on del keyword\n",
    "\n",
    "a = 11\n",
    "b = 22\n",
    "\n",
    "# we will get values of a & b\n",
    "print(f\"The value of 'b' before del is: {a}\")             # this will print value of a\n",
    "print(f\"The value of 'b' before del is: {b}\")             # this will print value of a\n",
    "\n",
    "\n",
    "# deleting variable-b\n",
    "del b                # to delet variable b\n",
    "\n",
    "# Let's try to print values of a & b\n",
    "print(f\"\\nThe value of 'b' after del is: {a}\")     # this will print value of a\n",
    "print(f\"The value of 'b' after del is: {b}\")     # this will print give error\n"
   ]
  },
  {
   "cell_type": "markdown",
   "id": "cf5dabff",
   "metadata": {},
   "source": [
    "###  Q.6. What is the operation of this `special character ‘\\’`?"
   ]
  },
  {
   "cell_type": "markdown",
   "id": "7a50f558",
   "metadata": {},
   "source": [
    "**`Ans-6`**\n",
    "\n",
    ">-  In Python strings, the **backslash \"\\\"** is a special character, also called the **`escape`** character. \n",
    ">-  In other words, it has a special meaning when we use it inside the strings. As the name suggests, the `escape character` escapes the characters in a string for a brief moment to introduce unique inclusion. \n",
    ">- `Escape characters` or sequences are `illegal characters` for Python and `never get printed` as part of the output. When backslash is used in Python programming, it allows the program to escape the next characters.\n",
    ">- **Syntax:**\n",
    "                \\Escape character\n",
    ">- Types of Escape Sequence:\n",
    "                i) \\’   --------->  Single quotation\n",
    "                ii) \\\\   --------->  Backslash\n",
    "                iii) \\n   --------->  New Line\n",
    "                iv) \\r   --------->  Carriage return\n",
    "                v) \\t   --------->  Tab\n",
    "                vi) \\b   --------->   Backspace\n",
    "                vii) \\f   --------->  Form feed\n",
    "                viii) \\ooo   --------->  Octal equivalent\n",
    "                ix) \\xhhh   --------->  Hexadecimal equivalent"
   ]
  },
  {
   "cell_type": "markdown",
   "id": "ae3be3dd",
   "metadata": {},
   "source": [
    "###  Q.7. Give an example of the following conditions:\n",
    "            (i) Homogeneous list\n",
    "            (ii) Heterogeneous set\n",
    "            (iii) Homogeneous tuple"
   ]
  },
  {
   "cell_type": "markdown",
   "id": "8cbb61d7",
   "metadata": {
    "ExecuteTime": {
     "end_time": "2023-05-30T10:41:11.319226Z",
     "start_time": "2023-05-30T10:41:11.302927Z"
    }
   },
   "source": [
    "**`Ans-7`**\n",
    "\n",
    "> **`i) Homogeneous List:`**\n",
    ">- **List** is used to store the sequence of various types of data. A list can be defined as a collection of values or items of different types. Python lists are mutable type which implies that we may modify its element after it has been formed. The items in the list are separated with the comma (,) and enclosed with the square brackets [].\n",
    ">- **Homogeneous List** The homogeneous list is the list which contains similar type of elements i.e. datatype of each and every elements should be same.\n",
    ">- **Example:**\n",
    "                i) list_age = [22, 54, 65, 78, 23, 53, 32, 44, 55]\n",
    "                ii) list_laptop =  ['Dell', 'Lenovo', 'Acer', 'HP', 'Microsoft', 'Samsung']\n",
    "\n",
    "> **`ii) Heterogeneous Set`**\n",
    ">- **Set** is the collection of the unordered items. Each element in the set must be unique, immutable, and the sets remove the duplicate elements. Sets are mutable which means we can modify it after its creation.\n",
    ">- **Heterogeneous Set** is a set which which contains all type of elements i.e. all types datatype.\n",
    ">- **Example:**\n",
    "                i) set_1 = {'Hello', 101, 2.5, 'Bye'}\n",
    "                ii) set_2 = {3, 12.34, 'Sachin', True, }\n",
    "\n",
    "> **`iii) Homogeneous Tuple:`**\n",
    ">- **Tuple** is a group of items that are separated by commas. The indexing, nested objects, and repetitions of a tuple are somewhat like those of a list, however unlike a list, a tuple is immutable.\n",
    ">- **Homogeneous Tuple** is a tuple  which contains similar type of elements i.e. datatype of each and every elements should be same.\n",
    ">- **Example:**\n",
    "                i) tuple_city = ('Pune', 'Mumbai', 'Nashik', 'Delhi')\n",
    "                ii) tuple_square = (1,4,9,16,26,36,49,64,81,100)\n",
    "\n"
   ]
  },
  {
   "cell_type": "markdown",
   "id": "baf0da4a",
   "metadata": {},
   "source": [
    "###  Q.8. Explain the mutable and immutable data types with proper explanation & examples."
   ]
  },
  {
   "cell_type": "markdown",
   "id": "1dc835ba",
   "metadata": {},
   "source": [
    "**`Ans-8:`**\n",
    "\n",
    ">- The `Mutable` or `Immutable` is the fancy word for explaining the property of data types of being able to get updated after being initialized. The basic explanation is thus: A mutable object is one whose internal state is changeable. On the contrary, once an immutable object in Python has been created, we cannot change it in any way.\n",
    "\n",
    "> **`i) Mutable Data Type:`**\n",
    ">- Anything is said to be mutable when anything can be modified or changed. The term `\"mutable\"`  refers to an `object's capacity to modify its values`. These are frequently the things that hold a data collection.\n",
    ">- Python mutable data types:\n",
    "            a. Lists\n",
    "            b. Dictionaries\n",
    "            c. Sets\n",
    "           d. User-Defined Classes (It depends on the user to define the characteristics of the classes)\n",
    "        \n",
    ">- **`Example-1:`** Here, we created a list named m that contains 3 integers, 1, 2, and 3. After we change m by “popping” off the last value 3, the ID of m stays the same! So, objects of type int are immutable and objects of type list are mutable.\n"
   ]
  },
  {
   "cell_type": "code",
   "execution_count": 21,
   "id": "2c9a99db",
   "metadata": {
    "ExecuteTime": {
     "end_time": "2023-06-11T18:31:53.992786Z",
     "start_time": "2023-06-11T18:31:53.978264Z"
    }
   },
   "outputs": [
    {
     "name": "stdout",
     "output_type": "stream",
     "text": [
      "[1, 2, 3, 4, 5]\n",
      "1870661184768\n",
      "[1, 2, 3, 4]\n",
      "1870661184768\n"
     ]
    }
   ],
   "source": [
    "# Example-1: Exaplination of \"Mutable Data Type\"\n",
    "\n",
    "## assigning a integer value 43 to age variable\n",
    "\n",
    "list_num = [1, 2, 3, 4, 5]         # defining a list with five element\n",
    "print(list_num)                                           # printing list\n",
    "print(id(list_num))                                  # printing list\n",
    "\n",
    "## removing last element of list\n",
    "list_num.pop()                          # remove last element rom list\n",
    "print(list_num)                                         # printing list\n",
    "print(id(list_num))                                 # printing list"
   ]
  },
  {
   "cell_type": "markdown",
   "id": "072789d9",
   "metadata": {},
   "source": [
    "> **`ii) Immutable Data Type:`**\n",
    ">- Anything is said to be immutable when anything can not be modified or changed. The term `\"Immutable\"` refers to `a state in which no change can occur over time`. A Python object is referred to as immutable if we cannot change its value over time. The value of these Python objects is fixed once they are made.\n",
    ">- Python immutable data types:\n",
    "            a. Numbers (Integer, Float, Complex, Decimal, Rational & Booleans)\n",
    "            b. Tuples\n",
    "            c. Strings\n",
    "            d. Frozen Sets\n",
    "            \n",
    " >- **`Example-2: `** Let us try to asssigned a variable 'age' with two diferent integer value as show below.\n",
    " >- We can see in example below, the value of age is not changed , it is still 42 is an integer number, of the type int, which is immutable. So, what happened is really that on the first line, age is a name that is set to point to an int object, whose value is 42.\n",
    ">- When we type age = 43, what happens is that another object is created, of the type int and value 43 (also, the id will be different), and the name age is set to point to it. So, we didn’t change that 42 to 43. We actually just pointed age to a different location.\n",
    ">- As you can see from printing id(age) before and after the second object named age was created, they are different."
   ]
  },
  {
   "cell_type": "code",
   "execution_count": 15,
   "id": "e7648583",
   "metadata": {
    "ExecuteTime": {
     "end_time": "2023-06-11T18:28:36.659363Z",
     "start_time": "2023-06-11T18:28:36.649865Z"
    }
   },
   "outputs": [
    {
     "name": "stdout",
     "output_type": "stream",
     "text": [
      "1872453305872\n",
      "<class 'int'>\n",
      "42\n",
      "1872453305904\n",
      "<class 'int'>\n",
      "43\n"
     ]
    }
   ],
   "source": [
    "# Example-2: Exaplination of \"Immutable Data Type\"\n",
    "\n",
    "## assigning a integer value 43 to age variable\n",
    "\n",
    "age = 42                  # assigning 42 to `age` variable\n",
    "print(id(age))                  # printing 'id' of variable\n",
    "print(type(age))             # printing 'type' of variable\n",
    "print(age)                         # printing 'value' of variable\n",
    "\n",
    "## assigning a integer value 43 to age variable\n",
    "\n",
    "age = 43                  # assigning 43 to `age` variable\n",
    "print(id(age))                  # printing 'id' of variable\n",
    "print(type(age))             # printing 'type' of variable\n",
    "print(age)                         # printing 'value' of variable"
   ]
  },
  {
   "cell_type": "markdown",
   "id": "1596030c",
   "metadata": {},
   "source": [
    "###  Q.9. Write a code to create the given structure using only for loop.\n",
    "                                    *\n",
    "                                  ***\n",
    "                                *****\n",
    "                              *******\n",
    "                            *********"
   ]
  },
  {
   "cell_type": "code",
   "execution_count": 39,
   "id": "9f9edb29",
   "metadata": {
    "ExecuteTime": {
     "end_time": "2023-06-11T19:08:06.461655Z",
     "start_time": "2023-06-11T19:08:06.440543Z"
    }
   },
   "outputs": [
    {
     "name": "stdout",
     "output_type": "stream",
     "text": [
      "        * \n",
      "      * * * \n",
      "    * * * * * \n",
      "  * * * * * * * \n",
      "* * * * * * * * * \n"
     ]
    }
   ],
   "source": [
    "# Here, we have 5 rows pyramid\n",
    "\n",
    "rows = 5\n",
    "\n",
    "k = 0\n",
    "\n",
    "for i in range(1, rows+1):\n",
    "    for space in range(1, (rows-i)+1):\n",
    "        print(end=\"  \")\n",
    "   \n",
    "    while k!=(2*i-1):\n",
    "        print(\"* \", end=\"\")\n",
    "        k += 1\n",
    "   \n",
    "    k = 0\n",
    "    print()"
   ]
  },
  {
   "cell_type": "markdown",
   "id": "63672a3b",
   "metadata": {},
   "source": [
    "###  Q.10. Write a code to create the given structure using while loop.\n",
    "                            |||||||||\n",
    "                              |||||||\n",
    "                               |||||\n",
    "                                 |||\n",
    "                                  |"
   ]
  },
  {
   "cell_type": "code",
   "execution_count": 50,
   "id": "fbeb3fd4",
   "metadata": {
    "ExecuteTime": {
     "end_time": "2023-06-11T19:12:23.102003Z",
     "start_time": "2023-06-11T19:12:23.086771Z"
    }
   },
   "outputs": [
    {
     "name": "stdout",
     "output_type": "stream",
     "text": [
      "| | | | | | | | | \n",
      "  | | | | | | | \n",
      "    | | | | | \n",
      "      | | | \n",
      "        | \n"
     ]
    }
   ],
   "source": [
    "rows = 5+1\n",
    "\n",
    "for i in range(rows, 1, -1):\n",
    "    for space in range(0, rows-i):\n",
    "        print(\"  \", end=\"\")\n",
    "    for j in range(i, 2*i-1):\n",
    "        print(\"| \", end=\"\")\n",
    "    for j in range(1, i-1):\n",
    "        print(\"| \", end=\"\")\n",
    "    print()"
   ]
  }
 ],
 "metadata": {
  "hide_input": false,
  "kernelspec": {
   "display_name": "Python 3 (ipykernel)",
   "language": "python",
   "name": "python3"
  },
  "language_info": {
   "codemirror_mode": {
    "name": "ipython",
    "version": 3
   },
   "file_extension": ".py",
   "mimetype": "text/x-python",
   "name": "python",
   "nbconvert_exporter": "python",
   "pygments_lexer": "ipython3",
   "version": "3.10.9"
  },
  "varInspector": {
   "cols": {
    "lenName": 16,
    "lenType": 16,
    "lenVar": 40
   },
   "kernels_config": {
    "python": {
     "delete_cmd_postfix": "",
     "delete_cmd_prefix": "del ",
     "library": "var_list.py",
     "varRefreshCmd": "print(var_dic_list())"
    },
    "r": {
     "delete_cmd_postfix": ") ",
     "delete_cmd_prefix": "rm(",
     "library": "var_list.r",
     "varRefreshCmd": "cat(var_dic_list()) "
    }
   },
   "types_to_exclude": [
    "module",
    "function",
    "builtin_function_or_method",
    "instance",
    "_Feature"
   ],
   "window_display": false
  }
 },
 "nbformat": 4,
 "nbformat_minor": 5
}
